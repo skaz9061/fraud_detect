{
 "cells": [
  {
   "cell_type": "code",
   "execution_count": 1,
   "id": "859f28b5",
   "metadata": {},
   "outputs": [
    {
     "name": "stdout",
     "output_type": "stream",
     "text": [
      "Requirement already satisfied: numpy in c:\\users\\steve\\appdata\\local\\programs\\python\\python38\\lib\\site-packages (1.22.3)\n",
      "Requirement already satisfied: pandas in c:\\users\\steve\\appdata\\local\\programs\\python\\python38\\lib\\site-packages (1.4.2)\n",
      "Requirement already satisfied: python-dateutil>=2.8.1 in c:\\users\\steve\\appdata\\local\\programs\\python\\python38\\lib\\site-packages (from pandas) (2.8.2)\n",
      "Requirement already satisfied: pytz>=2020.1 in c:\\users\\steve\\appdata\\local\\programs\\python\\python38\\lib\\site-packages (from pandas) (2022.1)\n",
      "Requirement already satisfied: numpy>=1.18.5 in c:\\users\\steve\\appdata\\local\\programs\\python\\python38\\lib\\site-packages (from pandas) (1.22.3)\n",
      "Requirement already satisfied: six>=1.5 in c:\\users\\steve\\appdata\\local\\programs\\python\\python38\\lib\\site-packages (from python-dateutil>=2.8.1->pandas) (1.16.0)\n",
      "Requirement already satisfied: matplotlib in c:\\users\\steve\\appdata\\local\\programs\\python\\python38\\lib\\site-packages (3.5.1)\n",
      "Requirement already satisfied: numpy>=1.17 in c:\\users\\steve\\appdata\\local\\programs\\python\\python38\\lib\\site-packages (from matplotlib) (1.22.3)\n",
      "Requirement already satisfied: cycler>=0.10 in c:\\users\\steve\\appdata\\local\\programs\\python\\python38\\lib\\site-packages (from matplotlib) (0.11.0)\n",
      "Requirement already satisfied: pyparsing>=2.2.1 in c:\\users\\steve\\appdata\\local\\programs\\python\\python38\\lib\\site-packages (from matplotlib) (3.0.8)\n",
      "Requirement already satisfied: packaging>=20.0 in c:\\users\\steve\\appdata\\local\\programs\\python\\python38\\lib\\site-packages (from matplotlib) (21.3)\n",
      "Requirement already satisfied: fonttools>=4.22.0 in c:\\users\\steve\\appdata\\local\\programs\\python\\python38\\lib\\site-packages (from matplotlib) (4.32.0)\n",
      "Requirement already satisfied: python-dateutil>=2.7 in c:\\users\\steve\\appdata\\local\\programs\\python\\python38\\lib\\site-packages (from matplotlib) (2.8.2)\n",
      "Requirement already satisfied: pillow>=6.2.0 in c:\\users\\steve\\appdata\\local\\programs\\python\\python38\\lib\\site-packages (from matplotlib) (9.1.0)\n",
      "Requirement already satisfied: kiwisolver>=1.0.1 in c:\\users\\steve\\appdata\\local\\programs\\python\\python38\\lib\\site-packages (from matplotlib) (1.4.2)\n",
      "Requirement already satisfied: six>=1.5 in c:\\users\\steve\\appdata\\local\\programs\\python\\python38\\lib\\site-packages (from python-dateutil>=2.7->matplotlib) (1.16.0)\n",
      "Requirement already satisfied: scikit-learn in c:\\users\\steve\\appdata\\local\\programs\\python\\python38\\lib\\site-packages (1.0.2)\n",
      "Requirement already satisfied: threadpoolctl>=2.0.0 in c:\\users\\steve\\appdata\\local\\programs\\python\\python38\\lib\\site-packages (from scikit-learn) (3.1.0)\n",
      "Requirement already satisfied: scipy>=1.1.0 in c:\\users\\steve\\appdata\\local\\programs\\python\\python38\\lib\\site-packages (from scikit-learn) (1.8.0)\n",
      "Requirement already satisfied: numpy>=1.14.6 in c:\\users\\steve\\appdata\\local\\programs\\python\\python38\\lib\\site-packages (from scikit-learn) (1.22.3)\n",
      "Requirement already satisfied: joblib>=0.11 in c:\\users\\steve\\appdata\\local\\programs\\python\\python38\\lib\\site-packages (from scikit-learn) (1.1.0)\n",
      "Requirement already satisfied: ipywidgets in c:\\users\\steve\\appdata\\local\\programs\\python\\python38\\lib\\site-packages (7.7.0)\n",
      "Requirement already satisfied: jupyterlab-widgets>=1.0.0 in c:\\users\\steve\\appdata\\local\\programs\\python\\python38\\lib\\site-packages (from ipywidgets) (1.1.0)\n",
      "Requirement already satisfied: ipython-genutils~=0.2.0 in c:\\users\\steve\\appdata\\local\\programs\\python\\python38\\lib\\site-packages (from ipywidgets) (0.2.0)\n",
      "Requirement already satisfied: ipython>=4.0.0 in c:\\users\\steve\\appdata\\local\\programs\\python\\python38\\lib\\site-packages (from ipywidgets) (8.2.0)\n",
      "Requirement already satisfied: widgetsnbextension~=3.6.0 in c:\\users\\steve\\appdata\\local\\programs\\python\\python38\\lib\\site-packages (from ipywidgets) (3.6.0)\n",
      "Requirement already satisfied: traitlets>=4.3.1 in c:\\users\\steve\\appdata\\local\\programs\\python\\python38\\lib\\site-packages (from ipywidgets) (5.1.1)\n",
      "Requirement already satisfied: ipykernel>=4.5.1 in c:\\users\\steve\\appdata\\local\\programs\\python\\python38\\lib\\site-packages (from ipywidgets) (6.13.0)\n",
      "Requirement already satisfied: nbformat>=4.2.0 in c:\\users\\steve\\appdata\\local\\programs\\python\\python38\\lib\\site-packages (from ipywidgets) (5.3.0)\n",
      "Requirement already satisfied: psutil in c:\\users\\steve\\appdata\\local\\programs\\python\\python38\\lib\\site-packages (from ipykernel>=4.5.1->ipywidgets) (5.9.0)\n",
      "Requirement already satisfied: nest-asyncio in c:\\users\\steve\\appdata\\local\\programs\\python\\python38\\lib\\site-packages (from ipykernel>=4.5.1->ipywidgets) (1.5.5)\n",
      "Requirement already satisfied: debugpy>=1.0 in c:\\users\\steve\\appdata\\local\\programs\\python\\python38\\lib\\site-packages (from ipykernel>=4.5.1->ipywidgets) (1.6.0)\n",
      "Requirement already satisfied: tornado>=6.1 in c:\\users\\steve\\appdata\\local\\programs\\python\\python38\\lib\\site-packages (from ipykernel>=4.5.1->ipywidgets) (6.1)\n",
      "Requirement already satisfied: packaging in c:\\users\\steve\\appdata\\local\\programs\\python\\python38\\lib\\site-packages (from ipykernel>=4.5.1->ipywidgets) (21.3)\n",
      "Requirement already satisfied: matplotlib-inline>=0.1 in c:\\users\\steve\\appdata\\local\\programs\\python\\python38\\lib\\site-packages (from ipykernel>=4.5.1->ipywidgets) (0.1.3)\n",
      "Requirement already satisfied: jupyter-client>=6.1.12 in c:\\users\\steve\\appdata\\local\\programs\\python\\python38\\lib\\site-packages (from ipykernel>=4.5.1->ipywidgets) (7.2.2)\n",
      "Requirement already satisfied: setuptools>=18.5 in c:\\users\\steve\\appdata\\local\\programs\\python\\python38\\lib\\site-packages (from ipython>=4.0.0->ipywidgets) (49.2.1)\n",
      "Requirement already satisfied: pickleshare in c:\\users\\steve\\appdata\\local\\programs\\python\\python38\\lib\\site-packages (from ipython>=4.0.0->ipywidgets) (0.7.5)\n",
      "Requirement already satisfied: colorama in c:\\users\\steve\\appdata\\local\\programs\\python\\python38\\lib\\site-packages (from ipython>=4.0.0->ipywidgets) (0.4.4)\n",
      "Requirement already satisfied: pygments>=2.4.0 in c:\\users\\steve\\appdata\\local\\programs\\python\\python38\\lib\\site-packages (from ipython>=4.0.0->ipywidgets) (2.11.2)\n",
      "Requirement already satisfied: stack-data in c:\\users\\steve\\appdata\\local\\programs\\python\\python38\\lib\\site-packages (from ipython>=4.0.0->ipywidgets) (0.2.0)\n",
      "Requirement already satisfied: jedi>=0.16 in c:\\users\\steve\\appdata\\local\\programs\\python\\python38\\lib\\site-packages (from ipython>=4.0.0->ipywidgets) (0.18.1)\n",
      "Requirement already satisfied: decorator in c:\\users\\steve\\appdata\\local\\programs\\python\\python38\\lib\\site-packages (from ipython>=4.0.0->ipywidgets) (5.1.1)\n",
      "Requirement already satisfied: prompt-toolkit!=3.0.0,!=3.0.1,<3.1.0,>=2.0.0 in c:\\users\\steve\\appdata\\local\\programs\\python\\python38\\lib\\site-packages (from ipython>=4.0.0->ipywidgets) (3.0.29)\n",
      "Requirement already satisfied: backcall in c:\\users\\steve\\appdata\\local\\programs\\python\\python38\\lib\\site-packages (from ipython>=4.0.0->ipywidgets) (0.2.0)\n",
      "Requirement already satisfied: jupyter-core in c:\\users\\steve\\appdata\\local\\programs\\python\\python38\\lib\\site-packages (from nbformat>=4.2.0->ipywidgets) (4.10.0)\n",
      "Requirement already satisfied: jsonschema>=2.6 in c:\\users\\steve\\appdata\\local\\programs\\python\\python38\\lib\\site-packages (from nbformat>=4.2.0->ipywidgets) (4.4.0)\n",
      "Requirement already satisfied: fastjsonschema in c:\\users\\steve\\appdata\\local\\programs\\python\\python38\\lib\\site-packages (from nbformat>=4.2.0->ipywidgets) (2.15.3)\n",
      "Requirement already satisfied: notebook>=4.4.1 in c:\\users\\steve\\appdata\\local\\programs\\python\\python38\\lib\\site-packages (from widgetsnbextension~=3.6.0->ipywidgets) (6.4.10)\n",
      "Requirement already satisfied: parso<0.9.0,>=0.8.0 in c:\\users\\steve\\appdata\\local\\programs\\python\\python38\\lib\\site-packages (from jedi>=0.16->ipython>=4.0.0->ipywidgets) (0.8.3)\n",
      "Requirement already satisfied: attrs>=17.4.0 in c:\\users\\steve\\appdata\\local\\programs\\python\\python38\\lib\\site-packages (from jsonschema>=2.6->nbformat>=4.2.0->ipywidgets) (21.4.0)\n",
      "Requirement already satisfied: importlib-resources>=1.4.0 in c:\\users\\steve\\appdata\\local\\programs\\python\\python38\\lib\\site-packages (from jsonschema>=2.6->nbformat>=4.2.0->ipywidgets) (5.7.1)\n",
      "Requirement already satisfied: pyrsistent!=0.17.0,!=0.17.1,!=0.17.2,>=0.14.0 in c:\\users\\steve\\appdata\\local\\programs\\python\\python38\\lib\\site-packages (from jsonschema>=2.6->nbformat>=4.2.0->ipywidgets) (0.18.1)\n",
      "Requirement already satisfied: entrypoints in c:\\users\\steve\\appdata\\local\\programs\\python\\python38\\lib\\site-packages (from jupyter-client>=6.1.12->ipykernel>=4.5.1->ipywidgets) (0.4)\n",
      "Requirement already satisfied: python-dateutil>=2.8.2 in c:\\users\\steve\\appdata\\local\\programs\\python\\python38\\lib\\site-packages (from jupyter-client>=6.1.12->ipykernel>=4.5.1->ipywidgets) (2.8.2)\n",
      "Requirement already satisfied: pyzmq>=22.3 in c:\\users\\steve\\appdata\\local\\programs\\python\\python38\\lib\\site-packages (from jupyter-client>=6.1.12->ipykernel>=4.5.1->ipywidgets) (22.3.0)\n",
      "Requirement already satisfied: pywin32>=1.0 in c:\\users\\steve\\appdata\\local\\programs\\python\\python38\\lib\\site-packages (from jupyter-core->nbformat>=4.2.0->ipywidgets) (303)\n",
      "Requirement already satisfied: Send2Trash>=1.8.0 in c:\\users\\steve\\appdata\\local\\programs\\python\\python38\\lib\\site-packages (from notebook>=4.4.1->widgetsnbextension~=3.6.0->ipywidgets) (1.8.0)\n",
      "Requirement already satisfied: argon2-cffi in c:\\users\\steve\\appdata\\local\\programs\\python\\python38\\lib\\site-packages (from notebook>=4.4.1->widgetsnbextension~=3.6.0->ipywidgets) (21.3.0)\n",
      "Requirement already satisfied: prometheus-client in c:\\users\\steve\\appdata\\local\\programs\\python\\python38\\lib\\site-packages (from notebook>=4.4.1->widgetsnbextension~=3.6.0->ipywidgets) (0.14.1)\n",
      "Requirement already satisfied: nbconvert>=5 in c:\\users\\steve\\appdata\\local\\programs\\python\\python38\\lib\\site-packages (from notebook>=4.4.1->widgetsnbextension~=3.6.0->ipywidgets) (6.5.0)\n",
      "Requirement already satisfied: terminado>=0.8.3 in c:\\users\\steve\\appdata\\local\\programs\\python\\python38\\lib\\site-packages (from notebook>=4.4.1->widgetsnbextension~=3.6.0->ipywidgets) (0.13.3)\n",
      "Requirement already satisfied: jinja2 in c:\\users\\steve\\appdata\\local\\programs\\python\\python38\\lib\\site-packages (from notebook>=4.4.1->widgetsnbextension~=3.6.0->ipywidgets) (3.1.1)\n",
      "Requirement already satisfied: wcwidth in c:\\users\\steve\\appdata\\local\\programs\\python\\python38\\lib\\site-packages (from prompt-toolkit!=3.0.0,!=3.0.1,<3.1.0,>=2.0.0->ipython>=4.0.0->ipywidgets) (0.2.5)\n",
      "Requirement already satisfied: pyparsing!=3.0.5,>=2.0.2 in c:\\users\\steve\\appdata\\local\\programs\\python\\python38\\lib\\site-packages (from packaging->ipykernel>=4.5.1->ipywidgets) (3.0.8)\n",
      "Requirement already satisfied: asttokens in c:\\users\\steve\\appdata\\local\\programs\\python\\python38\\lib\\site-packages (from stack-data->ipython>=4.0.0->ipywidgets) (2.0.5)\n",
      "Requirement already satisfied: pure-eval in c:\\users\\steve\\appdata\\local\\programs\\python\\python38\\lib\\site-packages (from stack-data->ipython>=4.0.0->ipywidgets) (0.2.2)\n",
      "Requirement already satisfied: executing in c:\\users\\steve\\appdata\\local\\programs\\python\\python38\\lib\\site-packages (from stack-data->ipython>=4.0.0->ipywidgets) (0.8.3)\n",
      "Requirement already satisfied: zipp>=3.1.0 in c:\\users\\steve\\appdata\\local\\programs\\python\\python38\\lib\\site-packages (from importlib-resources>=1.4.0->jsonschema>=2.6->nbformat>=4.2.0->ipywidgets) (3.8.0)\n",
      "Requirement already satisfied: jupyterlab-pygments in c:\\users\\steve\\appdata\\local\\programs\\python\\python38\\lib\\site-packages (from nbconvert>=5->notebook>=4.4.1->widgetsnbextension~=3.6.0->ipywidgets) (0.2.2)\n",
      "Requirement already satisfied: MarkupSafe>=2.0 in c:\\users\\steve\\appdata\\local\\programs\\python\\python38\\lib\\site-packages (from nbconvert>=5->notebook>=4.4.1->widgetsnbextension~=3.6.0->ipywidgets) (2.1.1)\n",
      "Requirement already satisfied: nbclient>=0.5.0 in c:\\users\\steve\\appdata\\local\\programs\\python\\python38\\lib\\site-packages (from nbconvert>=5->notebook>=4.4.1->widgetsnbextension~=3.6.0->ipywidgets) (0.6.0)\n",
      "Requirement already satisfied: mistune<2,>=0.8.1 in c:\\users\\steve\\appdata\\local\\programs\\python\\python38\\lib\\site-packages (from nbconvert>=5->notebook>=4.4.1->widgetsnbextension~=3.6.0->ipywidgets) (0.8.4)\n",
      "Requirement already satisfied: pandocfilters>=1.4.1 in c:\\users\\steve\\appdata\\local\\programs\\python\\python38\\lib\\site-packages (from nbconvert>=5->notebook>=4.4.1->widgetsnbextension~=3.6.0->ipywidgets) (1.5.0)\n",
      "Requirement already satisfied: beautifulsoup4 in c:\\users\\steve\\appdata\\local\\programs\\python\\python38\\lib\\site-packages (from nbconvert>=5->notebook>=4.4.1->widgetsnbextension~=3.6.0->ipywidgets) (4.11.1)\n",
      "Requirement already satisfied: bleach in c:\\users\\steve\\appdata\\local\\programs\\python\\python38\\lib\\site-packages (from nbconvert>=5->notebook>=4.4.1->widgetsnbextension~=3.6.0->ipywidgets) (5.0.0)\n",
      "Requirement already satisfied: defusedxml in c:\\users\\steve\\appdata\\local\\programs\\python\\python38\\lib\\site-packages (from nbconvert>=5->notebook>=4.4.1->widgetsnbextension~=3.6.0->ipywidgets) (0.7.1)\n",
      "Requirement already satisfied: tinycss2 in c:\\users\\steve\\appdata\\local\\programs\\python\\python38\\lib\\site-packages (from nbconvert>=5->notebook>=4.4.1->widgetsnbextension~=3.6.0->ipywidgets) (1.1.1)\n",
      "Requirement already satisfied: six>=1.5 in c:\\users\\steve\\appdata\\local\\programs\\python\\python38\\lib\\site-packages (from python-dateutil>=2.8.2->jupyter-client>=6.1.12->ipykernel>=4.5.1->ipywidgets) (1.16.0)\n",
      "Requirement already satisfied: pywinpty>=1.1.0 in c:\\users\\steve\\appdata\\local\\programs\\python\\python38\\lib\\site-packages (from terminado>=0.8.3->notebook>=4.4.1->widgetsnbextension~=3.6.0->ipywidgets) (2.0.5)\n",
      "Requirement already satisfied: argon2-cffi-bindings in c:\\users\\steve\\appdata\\local\\programs\\python\\python38\\lib\\site-packages (from argon2-cffi->notebook>=4.4.1->widgetsnbextension~=3.6.0->ipywidgets) (21.2.0)\n",
      "Requirement already satisfied: cffi>=1.0.1 in c:\\users\\steve\\appdata\\local\\programs\\python\\python38\\lib\\site-packages (from argon2-cffi-bindings->argon2-cffi->notebook>=4.4.1->widgetsnbextension~=3.6.0->ipywidgets) (1.15.0)\n",
      "Requirement already satisfied: soupsieve>1.2 in c:\\users\\steve\\appdata\\local\\programs\\python\\python38\\lib\\site-packages (from beautifulsoup4->nbconvert>=5->notebook>=4.4.1->widgetsnbextension~=3.6.0->ipywidgets) (2.3.2.post1)\n",
      "Requirement already satisfied: webencodings in c:\\users\\steve\\appdata\\local\\programs\\python\\python38\\lib\\site-packages (from bleach->nbconvert>=5->notebook>=4.4.1->widgetsnbextension~=3.6.0->ipywidgets) (0.5.1)\n",
      "Requirement already satisfied: pycparser in c:\\users\\steve\\appdata\\local\\programs\\python\\python38\\lib\\site-packages (from cffi>=1.0.1->argon2-cffi-bindings->argon2-cffi->notebook>=4.4.1->widgetsnbextension~=3.6.0->ipywidgets) (2.21)\n"
     ]
    },
    {
     "name": "stderr",
     "output_type": "stream",
     "text": [
      "Enabling notebook extension jupyter-js-widgets/extension...\n",
      "      - Validating: ok\n"
     ]
    }
   ],
   "source": [
    "import sys\n",
    "!{sys.executable} -m pip install numpy\n",
    "!{sys.executable} -m pip install pandas\n",
    "!{sys.executable} -m pip install matplotlib\n",
    "!{sys.executable} -m pip install scikit-learn\n",
    "!{sys.executable} -m pip install ipywidgets\n",
    "\n",
    "!{sys.executable} -m jupyter nbextension enable --py widgetsnbextension"
   ]
  },
  {
   "cell_type": "code",
   "execution_count": 2,
   "id": "ed156c8b",
   "metadata": {},
   "outputs": [],
   "source": [
    "import numpy as np\n",
    "import pandas as pd\n",
    "import matplotlib.pyplot as plt\n",
    "from sklearn.preprocessing import StandardScaler\n",
    "import ipywidgets as widgets"
   ]
  },
  {
   "cell_type": "code",
   "execution_count": 3,
   "id": "5844144f",
   "metadata": {},
   "outputs": [],
   "source": [
    "# Import CSV data\n",
    "datasource_loc = \"creditcard.csv\"\n",
    "df = pd.read_csv(datasource_loc)\n",
    "\n",
    "def pca_transform(df, feat_to_trans):\n",
    "    features = df.columns[:-1]\n",
    "    trans_col = df.loc[:, feat_to_trans]\n",
    "    non_trans_col = df.loc[:, [x for x in features if x not in feat_to_trans]]\n",
    "    target_col = df.loc[:, 'Class']\n",
    "\n",
    "    pca_trans = StandardScaler().fit_transform(trans_col)\n",
    "\n",
    "    return pd.concat([pd.DataFrame(data=pca_trans, columns=feat_to_trans), non_trans_col, target_col], axis=1)\n",
    "\n",
    "# Use PCA Transformation on Time and Amount\n",
    "df_trans = pca_transform(df, ['Time', 'Amount'])"
   ]
  },
  {
   "cell_type": "code",
   "execution_count": 4,
   "id": "e2e64ce6",
   "metadata": {},
   "outputs": [],
   "source": [
    "def simple_box_plot(data, xticks, xlabel, ylabel, title):\n",
    "    fig, ax = plt.subplots()\n",
    "    ax.set_ylabel(ylabel, fontsize=12)\n",
    "    ax.set_xlabel(xlabel, fontsize=12)\n",
    "    ax.set_title(title, fontsize=14)\n",
    "    ax.grid(axis='y')\n",
    "    \n",
    "    green_diamond = dict(markerfacecolor='g', marker='D')\n",
    "    plt.boxplot(data, flierprops=green_diamond)\n",
    "\n",
    "    plt.xticks(range(1, len(xticks) + 1), xticks, fontsize='12')\n",
    "    plt.yticks(fontsize='12')\n",
    "    plt.show()"
   ]
  },
  {
   "cell_type": "code",
   "execution_count": 5,
   "id": "f9e196dd",
   "metadata": {},
   "outputs": [],
   "source": [
    "def multi_plot_linear_regression(df, x_col, y_col, target_col, targets, colors, legend, x_label, y_label, title, reg_line=True):\n",
    "    fig, ax = plt.subplots()\n",
    "    ax.set_xlabel(x_label, fontsize=12)\n",
    "    ax.set_ylabel(y_label, fontsize=12)\n",
    "    ax.set_title(title, fontsize=14)\n",
    "\n",
    "    for target, color in zip(targets, colors):\n",
    "        indicesToKeep = df[target_col] == target\n",
    "        X = df.loc[indicesToKeep, x_col]\n",
    "        Y = df.loc[indicesToKeep, y_col]\n",
    "        \n",
    "        ax.scatter(X, Y, color=color, s=10)\n",
    "        \n",
    "        if reg_line:\n",
    "            fit = np.polyfit(X, Y, deg=1)\n",
    "            r, g, b = color\n",
    "            plt.plot(X, [fit[0] * n + fit[1] for n in X], color=(r * 0.5, g * 0.5, b * 0.5))\n",
    "\n",
    "    if reg_line:\n",
    "        reg_leg = list()\n",
    "    \n",
    "        for label in legend:\n",
    "            reg_leg.append(label)\n",
    "            reg_leg.append(label + \" Regression Line\")\n",
    "\n",
    "        ax.legend(reg_leg)\n",
    "    else:\n",
    "        ax.legend(legend)\n",
    "    ax.grid()\n",
    "\n",
    "    plt.show()"
   ]
  },
  {
   "cell_type": "code",
   "execution_count": 6,
   "id": "f42cb215",
   "metadata": {},
   "outputs": [],
   "source": [
    "features = df_trans.columns[:-1]\n",
    "\n",
    "x = widgets.Dropdown(\n",
    "    options=features,\n",
    "    value=features[0],\n",
    "    description='X-axis: ',\n",
    "    disabled=False)\n",
    "\n",
    "y = widgets.Dropdown(\n",
    "    options=features,\n",
    "    value=features[1],\n",
    "    description='Y-axis: ',\n",
    "    disabled=False)\n",
    "\n",
    "plot_type = widgets.Dropdown(\n",
    "    options=['Box Plot', 'Scatterplot'],\n",
    "    value='Box Plot',\n",
    "    description='Plot Type: ',\n",
    "    disabled=False\n",
    ")\n",
    "\n",
    "reg_line = widgets.Checkbox(\n",
    "    value=False,\n",
    "    description=\"Add Regression Lines\",\n",
    "    disabled=False,\n",
    "    indent=True\n",
    ")"
   ]
  },
  {
   "cell_type": "markdown",
   "id": "2f60aaff",
   "metadata": {},
   "source": [
    "# Descriptive Analysis"
   ]
  },
  {
   "cell_type": "code",
   "execution_count": 7,
   "id": "a38e6403",
   "metadata": {
    "scrolled": false
   },
   "outputs": [
    {
     "data": {
      "application/vnd.jupyter.widget-view+json": {
       "model_id": "acb41ef4624c4556acc2ce8c6919d3d3",
       "version_major": 2,
       "version_minor": 0
      },
      "text/plain": [
       "interactive(children=(Dropdown(description='X-axis: ', options=('Time', 'Amount', 'V1', 'V2', 'V3', 'V4', 'V5'…"
      ]
     },
     "metadata": {},
     "output_type": "display_data"
    }
   ],
   "source": [
    "def plot_it(x, y, plot_type, reg_line):\n",
    "    desc_analysis_title = widgets.HTML(\n",
    "        value = '<h1>Descriptive Analysis</h1>'\n",
    "    )\n",
    "    display(desc_analysis_title)\n",
    "    \n",
    "    plt.rcParams['figure.dpi'] = 100\n",
    "    plt.rcParams[\"figure.figsize\"] = (10,10)\n",
    "    \n",
    "    if plot_type == \"Box Plot\":\n",
    "        print(\"Box Plots will only graph the feature chosen for the Y-axis.\")\n",
    "        if reg_line:\n",
    "            print('Regression Lines only show on Scatterplots.')\n",
    "        all_y = df_trans.loc[:, [y, 'Class']]\n",
    "        genuine = all_y[all_y['Class'] == 0].loc[:, y]\n",
    "        fraud = all_y[all_y['Class'] == 1].loc[:, y]\n",
    "        simple_box_plot([genuine, fraud], ['Genuine', 'Fraud'], 'Target', f'{y}', f'{y} Effect on Fraud')\n",
    "    elif plot_type == 'Scatterplot':\n",
    "        if x == y:\n",
    "            print('Features on X-axis and Y-axis should be different.')\n",
    "        \n",
    "        else:\n",
    "            multi_plot_linear_regression(df_trans, \n",
    "                                 x, \n",
    "                                 y, \n",
    "                                 'Class', \n",
    "                                 [0, 1], \n",
    "                                 [(1.0, 0.0, 0.0), (0.0, 0.0, 1.0)],\n",
    "                                 ['Genuine', 'Fraud'], \n",
    "                                 x, \n",
    "                                 y, \n",
    "                                 f'Effects of {x} and {y} on Fraud',\n",
    "                                 reg_line=reg_line)\n",
    "        \n",
    "\n",
    "widgets.interactive(plot_it, x=x, y=y, plot_type=plot_type, reg_line=reg_line)"
   ]
  },
  {
   "cell_type": "markdown",
   "id": "b94d2af2",
   "metadata": {},
   "source": [
    "# Non-Descriptive Analysis\n",
    "## Training"
   ]
  },
  {
   "cell_type": "code",
   "execution_count": 8,
   "id": "46eea395",
   "metadata": {},
   "outputs": [],
   "source": [
    "from sklearn.utils import shuffle\n",
    "from sklearn.ensemble import RandomForestClassifier\n",
    "from sklearn import metrics\n",
    "\n",
    "# Get final dataset, set list of features to remove\n",
    "df_final = pca_transform(df, ['Time'])\n",
    "feat_to_remove = ['Amount', 'Class']\n",
    "\n",
    "# Split the data into Training, Validation, and Testing Datasets\n",
    "sampling_df = shuffle(df_final)\n",
    "\n",
    "total_samples = sampling_df.values.shape[0]\n",
    "training_size = int(total_samples * 0.5)\n",
    "validation_size = int(total_samples * 0.25)\n",
    "testing_size = int(total_samples * 0.25)\n",
    "\n",
    "training_df = sampling_df.iloc[:training_size, :]\n",
    "validation_df = sampling_df.iloc[training_size:training_size + validation_size, :]\n",
    "testing_df = sampling_df.iloc[training_size + validation_size:, :]\n",
    "\n",
    "# Train the machine learning model\n",
    "clf = RandomForestClassifier(n_estimators=23, max_features=12, n_jobs=-1)\n",
    "X_train = training_df.loc[:, [f for f in training_df.columns if f not in feat_to_remove]].values\n",
    "Y_train = training_df.loc[:, 'Class'].values\n",
    "clf = clf.fit(X_train, Y_train)"
   ]
  },
  {
   "cell_type": "markdown",
   "id": "dac1d713",
   "metadata": {},
   "source": [
    "## Validation"
   ]
  },
  {
   "cell_type": "code",
   "execution_count": 9,
   "id": "09df4c1d",
   "metadata": {},
   "outputs": [
    {
     "name": "stdout",
     "output_type": "stream",
     "text": [
      "Validation Results for Random Forest Classifer:\n",
      "recall 0.8548387096774194\n",
      "precision positive 0.8548387096774194\n",
      "precision negative 0.9997467535208295\n"
     ]
    }
   ],
   "source": [
    "# Validate the machine learning model\n",
    "X_validate = validation_df.loc[:, [f for f in validation_df.columns if f not in feat_to_remove]].values\n",
    "Y_validate = validation_df.loc[:, 'Class'].values\n",
    "\n",
    "Y_predict = clf.predict(X_validate)\n",
    "print('Validation Results for Random Forest Classifer:')\n",
    "print('recall', metrics.recall_score(Y_validate, Y_predict))\n",
    "print('precision positive', metrics.precision_score(Y_validate, Y_predict))\n",
    "print('precision negative', metrics.precision_score(Y_validate, Y_predict, pos_label=0))"
   ]
  },
  {
   "cell_type": "markdown",
   "id": "5f55d57c",
   "metadata": {},
   "source": [
    "## Testing"
   ]
  },
  {
   "cell_type": "code",
   "execution_count": 10,
   "id": "a608de5c",
   "metadata": {
    "scrolled": false
   },
   "outputs": [
    {
     "data": {
      "application/vnd.jupyter.widget-view+json": {
       "model_id": "6adb473fd523444194ca03e802a1efc8",
       "version_major": 2,
       "version_minor": 0
      },
      "text/plain": [
       "HTML(value='<h1>Fraud Detect - Demo Version</h1><h2>Performance Analysis</h2><h3>Maximum Timeframe is 1 year</…"
      ]
     },
     "metadata": {},
     "output_type": "display_data"
    },
    {
     "data": {
      "application/vnd.jupyter.widget-view+json": {
       "model_id": "68f69cf5490c4f69a32c7890deddea8d",
       "version_major": 2,
       "version_minor": 0
      },
      "text/plain": [
       "Dropdown(description='Month from:', options=(('January', 1), ('February', 2), ('March', 3), ('April', 4), ('Ma…"
      ]
     },
     "metadata": {},
     "output_type": "display_data"
    },
    {
     "data": {
      "application/vnd.jupyter.widget-view+json": {
       "model_id": "738e78d00c244427b33b272cb4de115a",
       "version_major": 2,
       "version_minor": 0
      },
      "text/plain": [
       "Dropdown(description='Month to:', options=(('January', 1), ('February', 2), ('March', 3), ('April', 4), ('May'…"
      ]
     },
     "metadata": {},
     "output_type": "display_data"
    },
    {
     "data": {
      "application/vnd.jupyter.widget-view+json": {
       "model_id": "4dfecaa5aad14e49a155ab4bbb9adb1d",
       "version_major": 2,
       "version_minor": 0
      },
      "text/plain": [
       "Button(description='Run', icon='check', style=ButtonStyle(), tooltip='Run report')"
      ]
     },
     "metadata": {},
     "output_type": "display_data"
    },
    {
     "data": {
      "application/vnd.jupyter.widget-view+json": {
       "model_id": "821a185130db461d886a0ca9b4971baa",
       "version_major": 2,
       "version_minor": 0
      },
      "text/plain": [
       "Output()"
      ]
     },
     "metadata": {},
     "output_type": "display_data"
    }
   ],
   "source": [
    "# Testing interface\n",
    "MONTHS = [\n",
    "        ('January', 1),\n",
    "        ('February', 2),\n",
    "        ('March', 3),\n",
    "        ('April', 4),\n",
    "        ('May', 5),\n",
    "        ('June', 6),\n",
    "        ('July', 7),\n",
    "        ('August', 8),\n",
    "        ('September', 9),\n",
    "        ('October', 10),\n",
    "        ('November', 11),\n",
    "        ('December', 12)\n",
    "    ]\n",
    "\n",
    "MONTH_NUM_TO_NAME = {v[1]: v[0] for v in MONTHS}\n",
    "\n",
    "title = widgets.HTML(\n",
    "    value=\"<h1>Fraud Detect - Demo Version</h1><h2>Performance Analysis</h2><h3>Maximum Timeframe is 1 year</h3>\",\n",
    "    placeholder='',\n",
    "    description=''\n",
    ")\n",
    "\n",
    "month_from = widgets.Dropdown(\n",
    "    options = MONTHS,\n",
    "    value = 1,\n",
    "    description = 'Month from:'\n",
    ")\n",
    "\n",
    "month_to = widgets.Dropdown(\n",
    "    options = MONTHS,\n",
    "    value = 1,\n",
    "    description = 'Month to:'\n",
    ")\n",
    "\n",
    "btn = widgets.Button(\n",
    "    description='Run',\n",
    "    disabled=False,\n",
    "    button_style='',\n",
    "    tooltip='Run report',\n",
    "    icon='check'\n",
    ")\n",
    "\n",
    "out = widgets.Output()\n",
    "\n",
    "display(title)\n",
    "display(month_from)\n",
    "display(month_to)\n",
    "display(btn)\n",
    "display(out)\n",
    "\n",
    "month_width = int(testing_df.shape[0] / 12)\n",
    "\n",
    "def run(month_from, month_to):\n",
    "    first_interval = (month_from - 1) * month_width\n",
    "    second_interval = month_to * month_width\n",
    "    \n",
    "    if month_from > month_to:\n",
    "        X_test = pd.concat([testing_df.iloc[first_interval:, :-1], testing_df.iloc[:second_interval, :-1]])\n",
    "        Y_test = pd.concat([testing_df.iloc[first_interval:, -1], testing_df.iloc[:second_interval, -1]]).values\n",
    "        print('NOTE: Timeframe spans across two different calendar years.')\n",
    "    else:\n",
    "        X_test = testing_df.iloc[first_interval:second_interval, :-1]\n",
    "        Y_test = testing_df.iloc[first_interval:second_interval, -1].values\n",
    "        \n",
    "    \n",
    "    # Predict fraud with the trained classifier\n",
    "    Y_predict = clf.predict(X_test.loc[:, [f for f in X_test.columns if f not in feat_to_remove]].values)\n",
    "    \n",
    "    # Calculate performance metrics\n",
    "    recall = metrics.recall_score(Y_test, Y_predict)\n",
    "    precision_pos = metrics.precision_score(Y_test, Y_predict)\n",
    "    precision_neg = metrics.precision_score(Y_test, Y_predict, pos_label=0)\n",
    "    \n",
    "    # Build pie charts\n",
    "    recall_pie = np.array([recall, 1-recall])\n",
    "    prec_pos_pie = np.array([precision_pos, 1-precision_pos])\n",
    "    prec_neg_pie = np.array([precision_neg, 1-precision_neg])\n",
    "    colors = ['g', 'k']\n",
    "    \n",
    "    fig, axis = plt.subplots(3, 1)\n",
    "    axis[0].pie(recall_pie, labels=['Recall {:.2f}%'.format(recall*100), ''], colors=colors)\n",
    "    axis[0].set_title('Percent of Fraudulent Transactions Identified')\n",
    "    axis[1].pie(prec_pos_pie, labels=['Precision Positive {:.2f}%'.format(precision_pos*100), ''], colors=colors)\n",
    "    axis[1].set_title('Percent of Fraud Predictions that were Correct')\n",
    "    axis[2].pie(prec_neg_pie, labels=['Precision Negative {:.2f}%'.format(precision_neg*100), ''], colors=colors)\n",
    "    axis[2].set_title('Percent of Genuine Predictions that were Correct')\n",
    "    \n",
    "    plt.show()\n",
    "        \n",
    "    # Create a single dataframe containing transaction info, the actual values, and predicted values\n",
    "    results_df = X_test.copy()\n",
    "    results_df['Class'] = Y_test\n",
    "    results_df['Predict'] = Y_predict\n",
    "    \n",
    "    # Sum the dollar amounts of identified fraud and missed fraud\n",
    "    identified = results_df[(results_df['Class'] == 1) & (results_df['Predict'] == 1)].loc[:, 'Amount'].sum(axis=0)\n",
    "    missed = results_df[(results_df['Class'] == 1) & (results_df['Predict'] == 0)].loc[:, 'Amount'].sum(axis=0)\n",
    "    return (identified, missed)\n",
    "    \n",
    "def on_btn_clicked(b):\n",
    "    with out:\n",
    "        out.clear_output()\n",
    "        plot_title = widgets.HTML(\n",
    "            value=f'<h3>Performance Analysis - {MONTH_NUM_TO_NAME[month_from.value]} through {MONTH_NUM_TO_NAME[month_to.value]}</h3>'\n",
    "        )\n",
    "        display(plot_title)\n",
    "        \n",
    "        identified, missed = run(month_from.value, month_to.value)\n",
    "\n",
    "        # Display the dollar amount of identified fraud.\n",
    "        fraud_dollars = widgets.HTML(\n",
    "            value='<p style=\"font-size:18px\"><strong>${:,.02f} of ${:,.02f}</strong> possible fraud identified</p>'.format(identified, identified + missed),\n",
    "            placeholder = '',\n",
    "            description = ''\n",
    "        )\n",
    "        display(fraud_dollars)\n",
    "        \n",
    "btn.on_click(on_btn_clicked)"
   ]
  },
  {
   "cell_type": "code",
   "execution_count": null,
   "id": "59da06e9",
   "metadata": {},
   "outputs": [],
   "source": []
  }
 ],
 "metadata": {
  "kernelspec": {
   "display_name": "Python 3 (ipykernel)",
   "language": "python",
   "name": "python3"
  },
  "language_info": {
   "codemirror_mode": {
    "name": "ipython",
    "version": 3
   },
   "file_extension": ".py",
   "mimetype": "text/x-python",
   "name": "python",
   "nbconvert_exporter": "python",
   "pygments_lexer": "ipython3",
   "version": "3.8.7"
  }
 },
 "nbformat": 4,
 "nbformat_minor": 5
}
